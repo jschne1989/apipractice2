{
 "cells": [
  {
   "cell_type": "code",
   "execution_count": 1,
   "metadata": {
    "scrolled": true
   },
   "outputs": [],
   "source": [
    "# Dependencies and Setup\n",
    "import matplotlib.pyplot as plt\n",
    "import pandas as pd\n",
    "import numpy as np\n",
    "import requests\n",
    "import time\n",
    "\n",
    "from pprint import pprint\n",
    "# Import API key\n",
    "import api_keys\n",
    "\n",
    "# Incorporated citipy to determine city based on latitude and longitude\n",
    "from citipy import citipy\n",
    "\n",
    "# Output File (CSV)\n",
    "output_data_file = \"output_data/cities.csv\"\n",
    "\n",
    "# Range of latitudes and longitudes\n",
    "lat_range = (-90, 90)\n",
    "lng_range = (-180, 180)"
   ]
  },
  {
   "cell_type": "markdown",
   "metadata": {},
   "source": [
    "## Generate Cities List"
   ]
  },
  {
   "cell_type": "code",
   "execution_count": 2,
   "metadata": {},
   "outputs": [
    {
     "data": {
      "text/plain": [
       "633"
      ]
     },
     "execution_count": 2,
     "metadata": {},
     "output_type": "execute_result"
    }
   ],
   "source": [
    "# List for holding lat_lngs and cities\n",
    "lat_lngs = []\n",
    "cities = []\n",
    "\n",
    "# Create a set of random lat and lng combinations\n",
    "lats = np.random.uniform(low=-90.000, high=90.000, size=1500)\n",
    "lngs = np.random.uniform(low=-180.000, high=180.000, size=1500)\n",
    "lat_lngs = zip(lats, lngs)\n",
    "\n",
    "# Identify nearest city for each lat, lng combination\n",
    "for lat_lng in lat_lngs:\n",
    "    city = citipy.nearest_city(lat_lng[0], lat_lng[1]).city_name\n",
    "    \n",
    "    # If the city is unique, then add it to a our cities list\n",
    "    if city not in cities:\n",
    "        cities.append(city)\n",
    "\n",
    "# Print the city count to confirm sufficient count\n",
    "len(cities)"
   ]
  },
  {
   "cell_type": "code",
   "execution_count": 3,
   "metadata": {},
   "outputs": [
    {
     "name": "stdout",
     "output_type": "stream",
     "text": [
      "['kaka', 'san vicente', 'adamas', 'lagoa', 'upernavik', 'busselton', 'mataura', 'chokurdakh', 'hermanus', 'sisimiut', 'husavik', 'provideniya', 'bluff', 'maldonado', 'rikitea', 'hilo', 'hithadhoo', 'ixtapa', 'richards bay', 'ramos arizpe', 'kamaishi', 'vulcan', 'saint-philippe', 'coihaique', 'georgetown', 'qaanaaq', 'carnarvon', 'kysyl-syr', 'port blair', 'longyearbyen', 'arraial do cabo', 'puerto ayora', 'kulunda', 'lebu', 'blythe', 'punta arenas', 'isangel', 'painesville', 'avarua', 'kerman', 'vaini', 'ushuaia', 'bambous virieux', 'kidal', 'east london', 'bethel', 'rabnita', 'carauari', 'kapaa', 'dikson', 'bure', 'drogheda', 'nara', 'unye', 'saleaula', 'yeppoon', 'filingue', 'cape town', 'severo-kurilsk', 'nizhneyansk', 'hillsborough', 'doha', 'libenge', 'guerrero negro', 'ponta do sol', 'melito di porto salvo', 'castro', 'khatanga', 'acapulco', 'egvekinot', 'inhambane', 'padang', 'foumban', 'cherskiy', 'atikokan', 'bilibino', 'whitehorse', 'vila velha', 'miami', 'ribeira grande', 'hazorasp', 'illoqqortoormiut', 'lompoc', 'erenhot', 'taolanaro', 'atuona', 'norman wells', 'mancora', 'mar del plata', 'tuktoyaktuk', 'logan lake', 'binga', 'pemba', 'norden', 'albany', 'nome', 'karaul', 'jamestown', 'clyde river', 'umm bab', 'nueva gerona', 'cockburn town', 'hobart', 'formoso do araguaia', 'korla', 'port alfred', 'lolua', 'airai', 'svetlyy', 'lasa', 'lishui', 'barrow', 'los llanos de aridane', 'penzance', 'karatau', 'palmer', 'marsa matruh', 'kasongo-lunda', 'mogadishu', 'zharkent', 'prado', 'maine-soroa', 'wajir', 'margate', 'thompson', 'anloga', 'lethem', 'mrirt', 'lorengau', 'umm kaddadah', 'porto santo', 'butaritari', 'sao filipe', 'vestmannaeyjar', 'pevek', 'maniitsoq', 'tura', 'goma', 'amderma', 'santa rosa', 'olafsvik', 'dogondoutchi', 'dublin', 'naldurg', 'yarmouth', 'barentsburg', 'codrington', 'rypefjord', 'westport', 'waipawa', 'ahipara', 'haines junction', 'deniliquin', 'camacha', 'daru', 'maumere', 'kodiak', 'tasiilaq', 'yellowknife', 'geraldton', 'jiexiu', 'touros', 'avera', 'komsomolskiy', 'pangnirtung', 'port elizabeth', 'teluk intan', 'odweyne', 'hamilton', 'pine bluff', 'brazzaville', 'sentyabrskiy', 'ilulissat', 'santa ines', 'rancho palos verdes', 'kendari', 'salalah', 'ambon', 'belushya guba', 'antofagasta', 'inirida', 'taoudenni', 'baykit', 'tongliao', 'sao joao da barra', 'kaitangata', 'samusu', 'klyuchevskiy', 'fortuna', 'saldanha', 'warmbad', 'warqla', 'saint-pierre', 'san carlos', 'muroto', 'khrebtovaya', 'sept-iles', 'la ciotat', 'sumbawa', 'namibe', 'mindif', 'beloha', 'biak', 'benghazi', 'mys shmidta', 'tiksi', 'souillac', 'fairbanks', 'trapani', 'rio grande', 'ust-tsilma', 'labuhan', 'el retorno', 'abha', 'katsuura', 'zilair', 'katunki', 'san cristobal', 'nagamangala', 'jiuquan', 'sumenep', 'bam', 'pangai', 'camana', 'phan thiet', 'kovdor', 'cidreira', 'nazilli', 'ostrovnoy', 'pingliang', 'novosemeykino', 'burnie', 'huilong', 'laguna', 'lazaro cardenas', 'itarema', 'parnarama', 'kayerkan', 'nemuro', 'coahuayana', 'bolungarvik', 'sawtell', 'mashiko', 'mirabad', 'tsihombe', 'springbok', 'tumannyy', 'kavieng', 'rawson', 'comodoro rivadavia', 'ondorhaan', 'iqaluit', 'puro', 'samarai', 'kuytun', 'narsaq', 'berlevag', 'kuznechikha', 'okhotsk', 'bengkulu', 'paamiut', 'naze', 'victoria', 'qaqortoq', 'siniscola', 'bandarbeyla', 'louisbourg', 'vardo', 'najran', 'leningradskiy', 'mount darwin', 'poltavka', 'san quintin', 'puerto escondido', 'nikolskoye', 'turukhansk', 'khalkhal', 'warrington', 'blankenberge', 'constitucion', 'kichera', 'vaitupu', 'myre', 'marcona', 'walvis bay', 'tutoia', 'wulanhaote', 'dunedin', 'dongning', 'kieta', 'saskylakh', 'dolores', 'vila franca do campo', 'parabel', 'la ronge', 'luderitz', 'novonikolayevskiy', 'melenki', 'faanui', 'gualaquiza', 'rio do sul', 'bac lieu', 'polovinnoye', 'winnemucca', 'bredasdorp', 'teya', 'ancud', 'gaurnadi', 'beyneu', 'ler', 'tvoroyri', 'kruisfontein', 'aulnoye-aymeries', 'neiafu', 'college', 'rawah', 'ranfurly', 'poum', 'balaguer', 'shimoda', 'tacoronte', 'muros', 'qasigiannguit', 'pierre', 'lunglei', 'shuangyang', 'beringovskiy', 'alyangula', 'dvinskoy', 'northam', 'melton mowbray', 'raga', 'iberia', 'sibiti', 'orasac', 'digora', 'gibsons', 'acajutla', 'antigonish', 'soyaux', 'la union', 'chapais', 'port hedland', 'bocas del toro', 'kishi', 'lodwar', 'tilichiki', 'chuy', 'ayer itam', 'along', 'hofn', 'presidencia roque saenz pena', 'broken hill', 'port lincoln', 'half moon bay', 'goryachiy klyuch', 'burlatskoye', 'rupert', 'port-gentil', 'baoqing', 'tadine', 'labutta', 'thinadhoo', 'alice town', 'sioux lookout', 'deputatskiy', 'lavrentiya', 'surazh', 'praia', 'banda aceh', 'havelock', 'mwene-ditu', 'langsa', 'we', 'wanning', 'matagami', 'correntina', 'laranjeiras do sul', 'lata', 'havoysund', 'new norfolk', 'kuche', 'minsk', 'fredericton', 'vallenar', 'buckeye', 'vostok', 'shimanovsk', 'palabuhanratu', 'tukan', 'tianpeng', 'antalaha', 'sinegorye', 'carballo', 'madimba', 'yelizovo', 'torquay', 'vao', 'ulkan', 'ngama', 'yulara', 'saint-joseph', 'oyama', 'zhezkazgan', 'orlovskiy', 'honningsvag', 'usinsk', 'asau', 'wilhelmshaven', 'plouzane', 'mount gambier', 'batagay-alyta', 'vestmanna', 'lucknow', 'mlonggo', 'tiznit', 'edwardsville', 'santa isabel do rio negro', 'kutum', 'locri', 'gat', 'la rioja', 'torbay', 'afmadu', 'susuman', 'ares', 'zaragoza', 'mana', 'papara', 'chipinge', 'sakaraha', 'mankono', 'tapiramuta', 'livadiya', 'kozlovka', 'eisenhuttenstadt', 'zheleznodorozhnyy', 'korem', 'sadiqabad', 'saint-leu', 'luau', 'kerema', 'byron bay', 'nacala', 'prince rupert', 'kibara', 'carupano', 'goderich', 'holetown', 'karratha', 'kahului', 'smidovich', 'santa maria', 'svetlaya', 'sheksna', 'pangkalanbuun', 'takestan', 'safwah', 'pascagoula', 'billings', 'yar-sale', 'el alto', 'chernukha', 'menongue', 'vanavara', 'jinchang', 'nachingwea', 'joensuu', 'mayo', 'tazovskiy', 'batemans bay', 'anadyr', 'bystryy istok', 'hasaki', 'tamiahua', 'te anau', 'pedasi', 'adrar', 'masindi', 'beirut', 'teocuitatlan de corona', 'iraray', 'grand river south east', 'tuatapere', 'bubaque', 'payo', 'royan', 'barreirinha', 'tacuarembo', 'hualmay', 'kalevala', 'tupik', 'pastavy', 'oranjestad', 'aflu', 'shihezi', 'sharjah', 'ugoofaaru', 'pimentel', 'krasnoselkup', 'ponta delgada', 'port hardy', 'yabrud', 'araouane', 'shasta lake', 'barillas', 'ye', 'sitka', 'oktyabrskoye', 'tabou', 'muri', 'klaksvik', 'flinders', 'sortavala', 'imbituba', 'rivadavia', 'alotau', 'esperance', 'umm durman', 'kerteh', 'cairns', 'miyakonojo', 'tubuala', 'tarko-sale', 'honiara', 'samana', 'rocha', 'maceio', 'mahebourg', 'urzicuta', 'kenai', 'dwarka', 'belmonte', 'fort nelson', 'kirakira', 'roald', 'saint-francois', 'alofi', 'yingcheng', 'waingapu', 'talcahuano', 'sambava', 'tabiauea', 'petropavlovsk-kamchatskiy', 'joao pinheiro', 'kimberley', 'linjiang', 'kondinskoye', 'igarka', 'barreirinhas', 'adjumani', 'almeirim', 'bayir', 'merauke', 'ludwigslust', 'mutsamudu', 'luanda', 'huarmey', 'bafoulabe', 'nola', 'tautira', 'aklavik', 'yarada', 'sao jose da coroa grande', 'popondetta', 'inderborskiy', 'rabak', 'saint george', 'harrismith', 'cap-aux-meules', 'longkou', 'nantucket', 'hoa binh', 'baghdad', 'ornskoldsvik', 'newport', 'russkaya polyana', 'gizo', 'sataua', 'marquette', 'lucapa', 'dawson creek', 'rockland', 'dingle', 'havre-saint-pierre', 'kasama', 'ca mau', 'jujuy', 'jingdezhen', 'nago', 'springdale', 'mount isa', 'pindiga', 'tasbuget', 'basco', 'aswan', 'thies', 'jalu', 'yunjinghong', 'tubruq', 'haverfordwest', 'ningan', 'foundiougne', 'buala', 'tucuma', 'cap malheureux', 'pisco', 'phuket', 'mahaicony', 'cayenne', 'dalby', 'mahibadhoo', 'ust-nera', 'hihifo', 'umzimvubu', 'makakilo city', 'moose factory', 'lima', 'isla vista', 'lashio', 'shache', 'warrnambool', 'nuuk', 'stoyba', 'bang sao thong', 'riaba', 'san juan', 'dauriya', 'kuppam', 'kupang', 'evensk', 'west odessa', 'santa marinella']\n"
     ]
    }
   ],
   "source": [
    "print(cities)"
   ]
  },
  {
   "cell_type": "markdown",
   "metadata": {},
   "source": [
    "## Perform API Calls"
   ]
  },
  {
   "cell_type": "code",
   "execution_count": 4,
   "metadata": {},
   "outputs": [
    {
     "name": "stdout",
     "output_type": "stream",
     "text": [
      "{'base': 'stations',\n",
      " 'clouds': {'all': 90},\n",
      " 'cod': 200,\n",
      " 'coord': {'lat': 43.65, 'lon': -79.39},\n",
      " 'dt': 1538351580,\n",
      " 'id': 6167865,\n",
      " 'main': {'humidity': 77,\n",
      "          'pressure': 1023,\n",
      "          'temp': 54.43,\n",
      "          'temp_max': 57.2,\n",
      "          'temp_min': 51.8},\n",
      " 'name': 'Toronto',\n",
      " 'sys': {'country': 'CA',\n",
      "         'id': 2117,\n",
      "         'message': 0.0044,\n",
      "         'sunrise': 1538392507,\n",
      "         'sunset': 1538434710,\n",
      "         'type': 1},\n",
      " 'visibility': 16093,\n",
      " 'weather': [{'description': 'overcast clouds',\n",
      "              'icon': '04n',\n",
      "              'id': 804,\n",
      "              'main': 'Clouds'}],\n",
      " 'wind': {'deg': 50, 'speed': 6.93}}\n"
     ]
    }
   ],
   "source": [
    "# OpenWeatherMap API Key\n",
    "api_key = api_keys.api_key\n",
    "\n",
    "# Starting URL for Weather Map API Call\n",
    "url = \"http://api.openweathermap.org/data/2.5/weather?units=Imperial&APPID=\" + api_key \n",
    "\n",
    "#test\n",
    "test_temperatures = []\n",
    "test_url = url + \"&q=toronto\"\n",
    "\n",
    "weather_test = requests.get(test_url)\n",
    "weather_test_json = weather_test.json()\n",
    "pprint(weather_test_json)\n",
    "\n",
    "#temp2 = weather_test_json[\"main\"][\"temp_max\"]\n",
    "#test_temperatures.append(temp2)\n",
    "#print(test_temperatures)"
   ]
  },
  {
   "cell_type": "code",
   "execution_count": 28,
   "metadata": {},
   "outputs": [],
   "source": [
    "# pull through list of cities to pull data into dataframe\n",
    "temperatures_max = []\n",
    "humidity = []\n",
    "wind_spd = []\n",
    "clouds = []\n",
    "lats = []\n",
    "\n",
    "#for loop to run through cities in list\n",
    "#add try error conditional incase of city not found\n",
    "for city in cities:\n",
    "    query_url = url + \"&q=\" + city\n",
    "        \n",
    "    try:\n",
    "        #get weather data\n",
    "        weather_response = requests.get(query_url)\n",
    "        weather_json = weather_response.json()\n",
    "\n",
    "        #get temperature from json response\n",
    "        temp = weather_json[\"main\"][\"temp_max\"]\n",
    "        temperatures_max.append(temp)\n",
    "\n",
    "        #get humidity from json response\n",
    "        hum = weather_json[\"main\"][\"humidity\"]\n",
    "        humidity.append(hum)\n",
    "\n",
    "        #get wind speed from json response\n",
    "        spd = weather_json[\"wind\"][\"speed\"]\n",
    "        wind_spd.append(spd)\n",
    "\n",
    "        #get cloudiness from json response\n",
    "        clds = weather_json[\"clouds\"][\"all\"]\n",
    "        clouds.append(clds)\n",
    "        \n",
    "        #get latitude from json response\n",
    "        lts = weather_json['coord']['lat']\n",
    "        lats.append(lts)\n",
    "        \n",
    "    except KeyError:\n",
    "        temperatures_max.append(0)\n",
    "        humidity.append(0)\n",
    "        wind_spd.append(0)\n",
    "        clouds.append(0)\n",
    "        lats.append(0)\n",
    "        continue \n",
    "\n"
   ]
  },
  {
   "cell_type": "code",
   "execution_count": 29,
   "metadata": {},
   "outputs": [
    {
     "name": "stdout",
     "output_type": "stream",
     "text": [
      "633 633 633 633 633\n"
     ]
    }
   ],
   "source": [
    "#check all data points pulled\n",
    "print(str(len(temperatures_max)) + \" \" + str(len(clouds))+ \" \" + str(len(humidity))+ \" \" + str(len(wind_spd))+ \" \" + str(len(lats)))"
   ]
  },
  {
   "cell_type": "code",
   "execution_count": 34,
   "metadata": {},
   "outputs": [
    {
     "data": {
      "text/plain": [
       "<function matplotlib.pyplot.show(*args, **kw)>"
      ]
     },
     "execution_count": 34,
     "metadata": {},
     "output_type": "execute_result"
    },
    {
     "data": {
      "image/png": "[encoded data removed]",
      "text/plain": [
       "<Figure size 432x288 with 1 Axes>"
      ]
     },
     "metadata": {
      "needs_background": "light"
     },
     "output_type": "display_data"
    }
   ],
   "source": [
    "\n",
    "# create scatter plot for current temp versus latitude\n",
    "#x = latitude\n",
    "#y = weather\n",
    "\n",
    "#scrub data to remove 0 latitude values and corresponding other values\n",
    "\n",
    "x = lats\n",
    "y = temperatures_max\n",
    "\n",
    "plt.scatter(x, y, marker = 'o', c = 'aquamarine', edgecolor = \"lightgrey\")\n",
    "plt.title(\"Temperature vs Latitude\")\n",
    "plt.xlabel(\"Latitude\")\n",
    "plt.ylabel(\"Temp (F)\")\n",
    "\n",
    "plt.show"
   ]
  },
  {
   "cell_type": "code",
   "execution_count": null,
   "metadata": {},
   "outputs": [],
   "source": []
  }
 ],
 "metadata": {
  "anaconda-cloud": {},
  "kernelspec": {
   "display_name": "PythonData",
   "language": "python",
   "name": "pythondata"
  },
  "language_info": {
   "codemirror_mode": {
    "name": "ipython",
    "version": 3
   },
   "file_extension": ".py",
   "mimetype": "text/x-python",
   "name": "python",
   "nbconvert_exporter": "python",
   "pygments_lexer": "ipython3",
   "version": "3.6.5"
  }
 },
 "nbformat": 4,
 "nbformat_minor": 1
}
